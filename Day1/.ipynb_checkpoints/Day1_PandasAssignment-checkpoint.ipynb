{
 "cells": [
  {
   "cell_type": "code",
   "execution_count": 37,
   "id": "95a78de9-0741-40ed-a10c-cb8cf34fe53f",
   "metadata": {},
   "outputs": [],
   "source": [
    "import pandas as pd\n",
    "import numpy as np"
   ]
  },
  {
   "cell_type": "markdown",
   "id": "f6fb554d-55cc-4701-85db-5a0b85610578",
   "metadata": {},
   "source": [
    "# 1. Write a Pandas program to create and display a one-dimensional array-like object containing an array of data."
   ]
  },
  {
   "cell_type": "code",
   "execution_count": 38,
   "id": "fd6e214b-f842-4a7c-b148-2b178fd4797a",
   "metadata": {},
   "outputs": [
    {
     "name": "stdout",
     "output_type": "stream",
     "text": [
      "One-dimensional array-like object containing an array of data: \n",
      "0    11\n",
      "1    22\n",
      "2    33\n",
      "3    44\n",
      "4    55\n",
      "dtype: int64\n"
     ]
    }
   ],
   "source": [
    "arr=pd.Series([11,22,33,44,55])\n",
    "print(f\"One-dimensional array-like object containing an array of data: \\n{arr}\")"
   ]
  },
  {
   "cell_type": "markdown",
   "id": "2140785a-6512-4b3b-b14d-c3b3c5c8bf18",
   "metadata": {},
   "source": [
    "# 2. Write a Pandas program to convert a Panda module Series to Python list and it’s type."
   ]
  },
  {
   "cell_type": "code",
   "execution_count": 39,
   "id": "b8e3dcde-a5d2-44d4-9f15-a820cbd18f9f",
   "metadata": {},
   "outputs": [
    {
     "name": "stdout",
     "output_type": "stream",
     "text": [
      "Type: <class 'pandas.core.arrays.numpy_.NumpyExtensionArray'>\n"
     ]
    }
   ],
   "source": [
    "arr=pd.Series([11,22,33,44,55])\n",
    "arr=pd.array(arr)\n",
    "print(f\"Type: {type(arr)}\")"
   ]
  },
  {
   "cell_type": "markdown",
   "id": "b6c8c77b-3fd4-456e-8ffc-8f4723ca0599",
   "metadata": {},
   "source": [
    "# 3. Write a Pandas program to add, subtract, multiple and divide two Pandas Series.Sample Series: [2, 4, 6, 8, 10], [1, 3, 5, 7, 9]"
   ]
  },
  {
   "cell_type": "code",
   "execution_count": 40,
   "id": "48d29e66-2ed8-4b05-afb0-f8e1d9907eba",
   "metadata": {},
   "outputs": [
    {
     "name": "stdout",
     "output_type": "stream",
     "text": [
      "Addition: \n",
      "0     4\n",
      "1     8\n",
      "2    12\n",
      "3    16\n",
      "4    20\n",
      "dtype: int64\n",
      "Substraction: \n",
      "0    0\n",
      "1    0\n",
      "2    0\n",
      "3    0\n",
      "4    0\n",
      "dtype: int64\n",
      "Multiplication: \n",
      "0      4\n",
      "1     16\n",
      "2     36\n",
      "3     64\n",
      "4    100\n",
      "dtype: int64\n",
      "Division: \n",
      "0    1.0\n",
      "1    1.0\n",
      "2    1.0\n",
      "3    1.0\n",
      "4    1.0\n",
      "dtype: float64\n"
     ]
    }
   ],
   "source": [
    "s1=pd.Series([2,4,6,8,10])\n",
    "s2=pd.Series([1,3,5,7,9])\n",
    "print(f\"Addition: \\n{s1+s1}\")\n",
    "print(f\"Substraction: \\n{s1-s1}\")\n",
    "print(f\"Multiplication: \\n{s1*s1}\")\n",
    "print(f\"Division: \\n{s1/s1}\")"
   ]
  },
  {
   "cell_type": "markdown",
   "id": "bc6f1794-89f1-49e2-9ceb-ba9d53055f98",
   "metadata": {},
   "source": [
    "# 4. Write a Pandas program to convert a dictionary to a Pandas series."
   ]
  },
  {
   "cell_type": "code",
   "execution_count": null,
   "id": "8a1122c0-e3dd-4e4e-b548-a32299da4460",
   "metadata": {},
   "outputs": [],
   "source": []
  },
  {
   "cell_type": "markdown",
   "id": "b81e15c4-d53f-4eff-b926-b8b24b091853",
   "metadata": {},
   "source": [
    "# 5. Write a Pandas program to convert a NumPy array to a Pandas series."
   ]
  },
  {
   "cell_type": "code",
   "execution_count": 41,
   "id": "2fe5b805-f2db-4394-90be-e1248902c45c",
   "metadata": {},
   "outputs": [
    {
     "name": "stdout",
     "output_type": "stream",
     "text": [
      "Numpy array to a Pandas Series: \n",
      "0    11\n",
      "1    22\n",
      "2    33\n",
      "3    44\n",
      "4    55\n",
      "dtype: int64\n"
     ]
    }
   ],
   "source": [
    "arr=np.array([11,22,33,44,55])\n",
    "s1=pd.Series(arr)\n",
    "print(f\"Numpy array to a Pandas Series: \\n{s1}\")"
   ]
  },
  {
   "cell_type": "markdown",
   "id": "d0267e08-b6ba-46f0-852b-7f3860eab819",
   "metadata": {},
   "source": [
    "# 6. Write a Pandas program to change the data type of given a column or a Series."
   ]
  },
  {
   "cell_type": "code",
   "execution_count": 42,
   "id": "461ffb78-e926-4ef7-b3a6-af1791da72ab",
   "metadata": {},
   "outputs": [
    {
     "name": "stdout",
     "output_type": "stream",
     "text": [
      "Original DataType: \n",
      "0    11\n",
      "1    22\n",
      "2    33\n",
      "3    44\n",
      "4    55\n",
      "dtype: int64\n",
      "Changed DataType : \n",
      "0    11.0\n",
      "1    22.0\n",
      "2     NaN\n",
      "3    44.0\n",
      "4     NaN\n",
      "dtype: float64\n"
     ]
    }
   ],
   "source": [
    "ser1=pd.Series([11,22,\"Virat\",44,\"Mamta\"])\n",
    "print(f\"Original DataType: \\n{s1}\")\n",
    "ser2 = pd.to_numeric(ser1,errors='coerce')\n",
    "print(f\"Changed DataType : \\n{ser2}\")"
   ]
  },
  {
   "cell_type": "markdown",
   "id": "eced2265-36aa-4580-b80b-bdb211f6bf92",
   "metadata": {},
   "source": [
    "# 7. Write a Pandas program to convert a given Series to an array."
   ]
  },
  {
   "cell_type": "code",
   "execution_count": 43,
   "id": "6cda8704-35e4-4976-ba7f-bcecac8d4f1a",
   "metadata": {},
   "outputs": [
    {
     "name": "stdout",
     "output_type": "stream",
     "text": [
      "Series: \n",
      "0    11\n",
      "1    22\n",
      "2    33\n",
      "3    44\n",
      "4    55\n",
      "dtype: int64\n",
      "Series To an Array: \n",
      "<NumpyExtensionArray>\n",
      "[11, 22, 33, 44, 55]\n",
      "Length: 5, dtype: int64\n"
     ]
    }
   ],
   "source": [
    "ser1=pd.Series([11,22,33,44,55])\n",
    "print(f\"Series: \\n{ser1}\")\n",
    "arr=pd.array(ser1)\n",
    "print(f\"Series To an Array: \\n{arr}\")"
   ]
  },
  {
   "cell_type": "markdown",
   "id": "1e694005-c695-4f34-80bf-88bad04a35c0",
   "metadata": {},
   "source": [
    "# 8. Write a Pandas program to create a dataframe from a dictionary and display it."
   ]
  },
  {
   "cell_type": "code",
   "execution_count": 49,
   "id": "77686508-7108-4e5f-9ac7-bccb2fb2fa7c",
   "metadata": {},
   "outputs": [],
   "source": [
    "def function1():\n",
    "    p1=({\"name\":\"Mamta\",\"age\":22,\"id\":8})\n",
    "    p2=({\"name\":\"Virat\",\"age\":34,\"id\":18})\n",
    "\n",
    "    #s1=pd.Series(p1)\n",
    "    #s2=pd.Series(p2)\n",
    "    \n",
    "    df=pd.DataFrame([p1,p2])\n",
    "    \n",
    "    print(f\"Dictionary1: \\n{p1}\")\n",
    "    print(f\"Dictionary2: \\n{p2}\")\n",
    "    print(f\"DataFrame: \\n{df}\")"
   ]
  },
  {
   "cell_type": "code",
   "execution_count": 50,
   "id": "762d9af0-6f73-4aab-982d-e16e7919ffb5",
   "metadata": {},
   "outputs": [
    {
     "name": "stdout",
     "output_type": "stream",
     "text": [
      "Dictionary1: \n",
      "{'name': 'Mamta', 'age': 22, 'id': 8}\n",
      "Dictionary2: \n",
      "{'name': 'Virat', 'age': 34, 'id': 18}\n",
      "DataFrame: \n",
      "    name  age  id\n",
      "0  Mamta   22   8\n",
      "1  Virat   34  18\n"
     ]
    }
   ],
   "source": [
    "function1()"
   ]
  },
  {
   "cell_type": "markdown",
   "id": "f97b0c3d-8cc0-4032-904e-f8202739b47e",
   "metadata": {},
   "source": [
    "9. i) Create a list of empids and names (10 employees).\n",
    "   ii) Convert list into Series.\n",
    "   iii) Print type of Series.\n",
    "   iv) Convert Series into DataFrame.\n",
    "   v) a) Display all records.\n",
    "      b) Display first five records.\n",
    "      c) Display last five records.\n",
    "      d) Display first two and last two records.Impo\n",
    "      e) Display name of 5th employee.\n",
    "      f) Display record of 4th employee.\n",
    "   vi) Save the record in csv file (MyRecord.csv)"
   ]
  },
  {
   "cell_type": "code",
   "execution_count": null,
   "id": "676a678a-7204-4561-81c8-d984cfc3337f",
   "metadata": {},
   "outputs": [],
   "source": []
  }
 ],
 "metadata": {
  "kernelspec": {
   "display_name": "Python 3 (ipykernel)",
   "language": "python",
   "name": "python3"
  },
  "language_info": {
   "codemirror_mode": {
    "name": "ipython",
    "version": 3
   },
   "file_extension": ".py",
   "mimetype": "text/x-python",
   "name": "python",
   "nbconvert_exporter": "python",
   "pygments_lexer": "ipython3",
   "version": "3.10.12"
  }
 },
 "nbformat": 4,
 "nbformat_minor": 5
}
